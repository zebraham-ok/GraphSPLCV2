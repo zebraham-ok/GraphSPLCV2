{
 "cells": [
  {
   "cell_type": "code",
   "execution_count": 35,
   "metadata": {},
   "outputs": [],
   "source": [
    "import API.ai_ask\n",
    "import API.neo4j_SLPC\n",
    "import matplotlib.pyplot as plt\n",
    "import pandas as pd\n",
    "import joblib as jb\n",
    "neo4j_host=API.neo4j_SLPC.Neo4jClient(driver=API.neo4j_SLPC.local_driver)\n",
    "\n",
    "from tqdm import tqdm"
   ]
  },
  {
   "cell_type": "code",
   "execution_count": 37,
   "metadata": {},
   "outputs": [
    {
     "name": "stderr",
     "output_type": "stream",
     "text": [
      "100%|██████████| 40/40 [00:01<00:00, 33.22it/s]\n"
     ]
    }
   ],
   "source": [
    "batch_size=100\n",
    "skip=0\n",
    "\n",
    "has_supply_section=[]\n",
    "\n",
    "for i in tqdm(range(40)):\n",
    "    has_supply_section_temp=neo4j_host.execute_query(query='''\n",
    "        match ()-[r:SupplyProductTo]->() where r.verified=true\n",
    "        with r.reference_section as s_id\n",
    "        match (s:Section) where elementid(s)=s_id\n",
    "        return distinct s_id, s.content as s_content\n",
    "        skip $skip limit $batch_size \n",
    "    ''', parameters={\"batch_size\": batch_size, \"skip\": skip})\n",
    "    has_supply_section+=[dict(i) for i in  has_supply_section_temp]\n",
    "    skip+=1"
   ]
  },
  {
   "cell_type": "code",
   "execution_count": 42,
   "metadata": {},
   "outputs": [],
   "source": [
    "# jb.dump(has_supply_section, r\"DataSet\\has_supply_section.jb\")\n",
    "has_supply_section_online=jb.load(r\"DataSet\\has_supply_section.jb\")"
   ]
  },
  {
   "cell_type": "code",
   "execution_count": 45,
   "metadata": {},
   "outputs": [
    {
     "name": "stdout",
     "output_type": "stream",
     "text": [
      "260\n"
     ]
    },
    {
     "data": {
      "text/plain": [
       "(array([  62.,   97., 4478.,  510.,   56.,  147.,  795.,   33.,    0.,\n",
       "          22.]),\n",
       " array([  70.,  216.,  362.,  508.,  654.,  800.,  946., 1092., 1238.,\n",
       "        1384., 1530.]),\n",
       " <BarContainer object of 10 artists>)"
      ]
     },
     "execution_count": 45,
     "metadata": {},
     "output_type": "execute_result"
    },
    {
     "data": {
      "image/png": "[encoded data removed]",
      "text/plain": [
       "<Figure size 640x480 with 1 Axes>"
      ]
     },
     "metadata": {},
     "output_type": "display_data"
    }
   ],
   "source": [
    "length_stat=[]\n",
    "content_list=[]\n",
    "for i in has_supply_section+has_supply_section_online:\n",
    "    content_list.append(i[\"s_content\"])\n",
    "    length_stat.append(len(i[\"s_content\"]))\n",
    "    \n",
    "print(len(set(content_list)))\n",
    "plt.hist(length_stat)"
   ]
  },
  {
   "cell_type": "code",
   "execution_count": 36,
   "metadata": {},
   "outputs": [
    {
     "data": {
      "text/plain": [
       "[<Record count(distinct s_id)=3964>]"
      ]
     },
     "execution_count": 36,
     "metadata": {},
     "output_type": "execute_result"
    }
   ],
   "source": [
    "neo4j_host.execute_query(query='''\n",
    "        match ()-[r:SupplyProductTo]->() where r.verified=true\n",
    "        with r.reference_section as s_id\n",
    "        match (s:Section) where elementid(s)=s_id\n",
    "        return count(distinct s_id)\n",
    "    ''')"
   ]
  },
  {
   "cell_type": "code",
   "execution_count": null,
   "metadata": {},
   "outputs": [],
   "source": []
  },
  {
   "cell_type": "code",
   "execution_count": null,
   "metadata": {},
   "outputs": [],
   "source": []
  },
  {
   "cell_type": "code",
   "execution_count": null,
   "metadata": {},
   "outputs": [],
   "source": []
  }
 ],
 "metadata": {
  "kernelspec": {
   "display_name": "Torch",
   "language": "python",
   "name": "python3"
  },
  "language_info": {
   "codemirror_mode": {
    "name": "ipython",
    "version": 3
   },
   "file_extension": ".py",
   "mimetype": "text/x-python",
   "name": "python",
   "nbconvert_exporter": "python",
   "pygments_lexer": "ipython3",
   "version": "3.10.13"
  }
 },
 "nbformat": 4,
 "nbformat_minor": 2
}
